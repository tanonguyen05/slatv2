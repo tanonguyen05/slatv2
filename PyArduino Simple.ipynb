{
 "cells": [
  {
   "cell_type": "code",
   "execution_count": 2,
   "id": "26a577c1",
   "metadata": {},
   "outputs": [
    {
     "name": "stdout",
     "output_type": "stream",
     "text": [
      "COM5 - USB Serial Device (COM5)\n",
      "COM3 - Standard Serial over Bluetooth link (COM3)\n",
      "COM4 - Standard Serial over Bluetooth link (COM4)\n",
      "select Port: COM5\n",
      "COM5 - USB Serial Device (COM5)\n",
      "Enter Input: on\n",
      "\n",
      "Enter Input: off\n",
      "Led off\n",
      "Enter Input: on\n",
      "Led on\n",
      "Enter Input: on\n",
      "Led on\n",
      "Enter Input: done\n",
      "invald input\n",
      "Enter Input: Done\n",
      "finished\n"
     ]
    }
   ],
   "source": [
    "import serial.tools.list_ports\n",
    "import time\n",
    "\n",
    "ports = serial.tools.list_ports.comports()\n",
    "serialInst = serial.Serial()\n",
    "\n",
    "portList = []\n",
    "\n",
    "for onePort in ports:\n",
    "    portList.append(str(onePort))\n",
    "    print(str(onePort))\n",
    "\n",
    "val = input(\"select Port: COM\")\n",
    "\n",
    "for x in range(0,len(portList)):\n",
    "    if portList[x].startswith(\"COM\" + str(val)):\n",
    "        portVar = \"COM\" + str(val)\n",
    "        print(portList[x])\n",
    "\n",
    "serialInst.baudrate = 9600\n",
    "serialInst.port = portVar\n",
    "serialInst.timeout = 1\n",
    "serialInst.open()\n",
    "\n",
    "while True:\n",
    "    i = input(\"Enter Input: \").strip()\n",
    "    if i == \"Done\":\n",
    "        print('finished')\n",
    "        break\n",
    "    serialInst.write(i.encode())\n",
    "    time.sleep(0.5)\n",
    "    print(serialInst.readline().decode('ascii'))\n",
    "serialInst.close()"
   ]
  }
 ],
 "metadata": {
  "kernelspec": {
   "display_name": "Python 3 (ipykernel)",
   "language": "python",
   "name": "python3"
  },
  "language_info": {
   "codemirror_mode": {
    "name": "ipython",
    "version": 3
   },
   "file_extension": ".py",
   "mimetype": "text/x-python",
   "name": "python",
   "nbconvert_exporter": "python",
   "pygments_lexer": "ipython3",
   "version": "3.9.7"
  }
 },
 "nbformat": 4,
 "nbformat_minor": 5
}
